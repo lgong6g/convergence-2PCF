{
 "cells": [
  {
   "cell_type": "code",
   "execution_count": 3,
   "id": "4ed07338",
   "metadata": {},
   "outputs": [],
   "source": [
    "import numpy as np\n",
    "import pandas as pd\n",
    "import matplotlib.pyplot as plt"
   ]
  },
  {
   "cell_type": "markdown",
   "id": "b77dfe6a",
   "metadata": {},
   "source": [
    "We calculate the data covariance matrix, then the precision matrix with Hartlap factor to unbias it"
   ]
  },
  {
   "cell_type": "code",
   "execution_count": 21,
   "id": "744873ff",
   "metadata": {},
   "outputs": [],
   "source": [
    "#This is for tomography (multiple redshift bins)\n",
    "corr2pt1 = pd.read_csv('../example_data/massivenus_2pt_z1.0_noisy_1e4realizations.csv', sep=' ')\n",
    "corr2pt2 = pd.read_csv('../example_data/massivenus_2pt_z1.5_noisy_1e4realizations.csv', sep=' ')\n",
    "corr2pt12 = pd.read_csv('../example_data/massivenus_cross2pt_noisy_1e4realizations.csv', sep=' ')\n",
    "\n",
    "full_vector = pd.concat([corr2pt1, corr2pt2, corr2pt12], axis=1)\n",
    "covariance = full_vector.cov()\n",
    "covariance = covariance.to_numpy()\n",
    "covariance = covariance * (5/18000)\n",
    "\n",
    "psi = np.linalg.inv(covariance)\n",
    "#unbias correction from Hartlap2006\n",
    "psi_true = (9999-60-2)/(9999-1)*psi"
   ]
  },
  {
   "cell_type": "markdown",
   "id": "91fcbcef",
   "metadata": {},
   "source": [
    "In following cells, one needs to use the code in the 2PCF_modelling folder to compute and call in the theoretical 2PCF with different cosmologies at required source redshifts so that we can use the central difference method to calculate the differentiation of 2PCF w.r.t different parameters. The parameter difference is assumed to be 5% of the fiducial values."
   ]
  },
  {
   "cell_type": "code",
   "execution_count": 3,
   "id": "f86ff091",
   "metadata": {},
   "outputs": [],
   "source": [
    "#the change in Mv is 5%\n",
    "corr2pt_Mv1 = pd.read_csv('...', sep=' ')\n",
    "corr2pt_Mv2 = pd.read_csv('...', sep=' ')\n",
    "corr2pt_cross_Mv1 = pd.read_csv('...', sep=' ')\n",
    "corr2pt_cross_Mv2 = pd.read_csv('...', sep=' ')\n",
    "\n",
    "#the change in Omega_m is 5%\n",
    "corr2pt_Omega1 = pd.read_csv('...', sep=' ')\n",
    "corr2pt_Omega2 = pd.read_csv('...', sep=' ')\n",
    "corr2pt_cross_Omega1 = pd.read_csv('...', sep=' ')\n",
    "corr2pt_cross_Omega2 = pd.read_csv('...', sep=' ')\n",
    "\n",
    "#the change in As is 5%\n",
    "corr2pt_As1 = pd.read_csv('...', sep=' ')\n",
    "corr2pt_As2 = pd.read_csv('...', sep=' ')\n",
    "corr2pt_cross_As1 = pd.read_csv('...', sep=' ')\n",
    "corr2pt_cross_As2 = pd.read_csv('...', sep=' ')"
   ]
  },
  {
   "cell_type": "code",
   "execution_count": 4,
   "id": "2525d652",
   "metadata": {},
   "outputs": [],
   "source": [
    "#The data vector at each single tomographic selection (including both auto-correlation and cross-correlation) for variable Mv\n",
    "corr2pt_Mv1_z1 = corr2pt_Mv1.iloc[:,1]\n",
    "corr2pt_Mv1_z2 = corr2pt_Mv1.iloc[:,2]\n",
    "\n",
    "corr2pt_Mv2_z1 = corr2pt_Mv2.iloc[:,1]\n",
    "corr2pt_Mv2_z2 = corr2pt_Mv2.iloc[:,2]\n",
    "\n",
    "corr2pt_cross_Mv1_z12 = corr2pt_cross_Mv1.iloc[:,1]\n",
    "corr2pt_cross_Mv2_z12 = corr2pt_cross_Mv2.iloc[:,1]"
   ]
  },
  {
   "cell_type": "code",
   "execution_count": 5,
   "id": "720f38c8",
   "metadata": {},
   "outputs": [],
   "source": [
    "#The data vector at each single tomographic selection (including both auto-correlation and cross-correlation) for variable Omega_m\n",
    "corr2pt_Omega1_z1 = corr2pt_Omega1.iloc[:,1]\n",
    "corr2pt_Omega1_z2 = corr2pt_Omega1.iloc[:,2]\n",
    "\n",
    "corr2pt_Omega2_z1 = corr2pt_Omega2.iloc[:,1]\n",
    "corr2pt_Omega2_z2 = corr2pt_Omega2.iloc[:,2]\n",
    "\n",
    "corr2pt_cross_Omega1_z12 = corr2pt_cross_Omega1.iloc[:,1]\n",
    "corr2pt_cross_Omega2_z12 = corr2pt_cross_Omega2.iloc[:,1]"
   ]
  },
  {
   "cell_type": "code",
   "execution_count": 6,
   "id": "68c4139c",
   "metadata": {},
   "outputs": [],
   "source": [
    "#The data vector at each single tomographic selection (including both auto-correlation and cross-correlation) for variable As\n",
    "corr2pt_As1_z1 = corr2pt_As1.iloc[:,1]\n",
    "corr2pt_As1_z2 = corr2pt_As1.iloc[:,2]\n",
    "\n",
    "corr2pt_As2_z1 = corr2pt_As2.iloc[:,1]\n",
    "corr2pt_As2_z2 = corr2pt_As2.iloc[:,2]\n",
    "\n",
    "corr2pt_cross_As1_z12 = corr2pt_cross_As1.iloc[:,1]\n",
    "corr2pt_cross_As2_z12 = corr2pt_cross_As2.iloc[:,1]"
   ]
  },
  {
   "cell_type": "markdown",
   "id": "f7a6ad53",
   "metadata": {},
   "source": [
    "For the whole data vector of tomography with two source redshifts"
   ]
  },
  {
   "cell_type": "code",
   "execution_count": 26,
   "id": "32f417e3",
   "metadata": {},
   "outputs": [],
   "source": [
    "data_Mv1 = pd.concat([corr2pt_Mv1_z1, corr2pt_Mv1_z2, corr2pt_cross_Mv1_z12], axis=0)\n",
    "data_Mv2 = pd.concat([corr2pt_Mv2_z1, corr2pt_Mv2_z2, corr2pt_cross_Mv2_z12], axis=0)\n",
    "data_Omega1 = pd.concat([corr2pt_Omega1_z1, corr2pt_Omega1_z2, corr2pt_cross_Omega1_z12], axis=0)\n",
    "data_Omega2 = pd.concat([corr2pt_Omega2_z1, corr2pt_Omega2_z2, corr2pt_cross_Omega2_z12], axis=0)\n",
    "data_As1 = pd.concat([corr2pt_As1_z1, corr2pt_As1_z2, corr2pt_cross_As1_z12], axis=0)\n",
    "data_As2 = pd.concat([corr2pt_As2_z1, corr2pt_As2_z2, corr2pt_cross_As2_z12], axis=0)"
   ]
  },
  {
   "cell_type": "code",
   "execution_count": 27,
   "id": "b8d3f0bd",
   "metadata": {},
   "outputs": [],
   "source": [
    "data_As1 = data_As1.to_numpy()\n",
    "data_As2 = data_As2.to_numpy()\n",
    "data_Mv1 = data_Mv1.to_numpy()\n",
    "data_Mv2 = data_Mv2.to_numpy()\n",
    "data_Omega1 = data_Omega1.to_numpy()\n",
    "data_Omega2 = data_Omega2.to_numpy()"
   ]
  },
  {
   "cell_type": "markdown",
   "id": "e0504ccd",
   "metadata": {},
   "source": [
    "Compute the derivatives of 2PCF w.r.t cosmological parameters"
   ]
  },
  {
   "cell_type": "code",
   "execution_count": 8,
   "id": "ff4d6872",
   "metadata": {},
   "outputs": [],
   "source": [
    "num_para = 3\n",
    "#5% change regarding the fiducial cosmological parameter values of MassiveNuS\n",
    "delta_Mv = 0.005\n",
    "delta_Omega = 0.015\n",
    "delta_As = 0.105e-9\n",
    "\n",
    "derivative = np.zeros((num_para, len(data_As1)))\n",
    "\n",
    "derivative[0,:] = (data_Mv2 - data_Mv1)/(2*delta_Mv)\n",
    "derivative[1,:] = (data_Omega2 - data_Omega1)/(2*delta_Omega)\n",
    "derivative[2,:] = (data_As2 - data_As1)/(2*delta_As)"
   ]
  },
  {
   "cell_type": "markdown",
   "id": "e9888761",
   "metadata": {},
   "source": [
    "We could now compute the Fisher matrix"
   ]
  },
  {
   "cell_type": "code",
   "execution_count": 9,
   "id": "583f1744",
   "metadata": {},
   "outputs": [],
   "source": [
    "F = np.zeros((num_para, num_para))\n",
    "\n",
    "for i in range(num_para):\n",
    "    for j in range(num_para):\n",
    "        matrix1 = np.matmul(derivative[i,:], psi_true)\n",
    "        F[i,j] = np.matmul(matrix1, derivative[j,:])\n",
    "\n",
    "Fisher = pd.DataFrame(F)\n",
    "Fisher.to_csv('Fisher_matrix_tomography_2bins.csv', sep=' ', index=False)"
   ]
  }
 ],
 "metadata": {
  "kernelspec": {
   "display_name": "Python 3 (ipykernel)",
   "language": "python",
   "name": "python3"
  },
  "language_info": {
   "codemirror_mode": {
    "name": "ipython",
    "version": 3
   },
   "file_extension": ".py",
   "mimetype": "text/x-python",
   "name": "python",
   "nbconvert_exporter": "python",
   "pygments_lexer": "ipython3",
   "version": "3.9.7"
  }
 },
 "nbformat": 4,
 "nbformat_minor": 5
}
